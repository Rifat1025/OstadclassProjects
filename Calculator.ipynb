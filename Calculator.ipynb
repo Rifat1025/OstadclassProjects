{
 "cells": [
  {
   "cell_type": "code",
   "execution_count": null,
   "id": "a72ab0d7-a0a6-4794-8c11-2fff36fcac83",
   "metadata": {},
   "outputs": [
    {
     "name": "stdout",
     "output_type": "stream",
     "text": [
      "1.Sum of numbers\n",
      "2.Suubtract of numbers\n",
      "3.Multiplication of numbers\n",
      "4.Division of numbers\n",
      "5.Exit\n"
     ]
    },
    {
     "name": "stdin",
     "output_type": "stream",
     "text": [
      "Choice the option:: 1\n",
      "Enter the first number: 2\n",
      "Enter second number:: 2\n"
     ]
    },
    {
     "name": "stdout",
     "output_type": "stream",
     "text": [
      "Numbers summation is 4\n",
      "1.Sum of numbers\n",
      "2.Suubtract of numbers\n",
      "3.Multiplication of numbers\n",
      "4.Division of numbers\n",
      "5.Exit\n"
     ]
    }
   ],
   "source": [
    "\n",
    "while True:\n",
    "    print(\"1.Sum of numbers\")\n",
    "    print(\"2.Suubtract of numbers\")\n",
    "    print(\"3.Multiplication of numbers\")\n",
    "    print(\"4.Division of numbers\")\n",
    "    print(\"5.Exit\")\n",
    "    \n",
    "    option=int(input(\"Choice the option::\"))\n",
    "    \n",
    "    if option==1:\n",
    "        num1=int(input(\"Enter the first number:\"))\n",
    "        num2=int(input(\"Enter second number::\"))\n",
    "        sum=num1+num2\n",
    "        print(\"Numbers summation is\",sum)\n",
    "        \n",
    "    elif option==2:\n",
    "        num1=int(input(\"Enter the first number:\"))\n",
    "        num2=int(input(\"Enter second number::\"))\n",
    "        sub=num1-num2\n",
    "        print(\"Numbers subtraction is\",sub)\n",
    "    elif option==3:\n",
    "        num1=int(input(\"Enter the first number:\"))\n",
    "        num2=int(input(\"Enter second number::\"))\n",
    "        mul=num1*num2\n",
    "        print(\"Numbers Multiplication is\",sum)\n",
    "    elif option==4:\n",
    "        num1=int(input(\"Enter the first number:\"))\n",
    "        num2=int(input(\"Enter second number::\"))\n",
    "        div=num1/num2\n",
    "        print(\"Numbers division is\",div)\n",
    "    elif choice == 5:\n",
    "      \n",
    "      print(\"Exiting the program...\")\n",
    "      break\n",
    "    else:\n",
    "        print(\"You choice the wrong operation::\")\n"
   ]
  },
  {
   "cell_type": "code",
   "execution_count": null,
   "id": "d7ee55a3-f1dd-4522-a831-b974f10d8bf2",
   "metadata": {},
   "outputs": [],
   "source": []
  }
 ],
 "metadata": {
  "kernelspec": {
   "display_name": "Python 3 (ipykernel)",
   "language": "python",
   "name": "python3"
  },
  "language_info": {
   "codemirror_mode": {
    "name": "ipython",
    "version": 3
   },
   "file_extension": ".py",
   "mimetype": "text/x-python",
   "name": "python",
   "nbconvert_exporter": "python",
   "pygments_lexer": "ipython3",
   "version": "3.12.5"
  }
 },
 "nbformat": 4,
 "nbformat_minor": 5
}
