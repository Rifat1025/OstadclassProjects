{
 "cells": [
  {
   "cell_type": "code",
   "execution_count": 1,
   "id": "4f9d15b8-b4b0-4fa8-8984-f5222073a356",
   "metadata": {},
   "outputs": [
    {
     "name": "stdout",
     "output_type": "stream",
     "text": [
      "1. Insert Book\n",
      "2. Show Books\n",
      "3. Issue Book\n",
      "4. Return Book \n",
      "5. Exit\n"
     ]
    },
    {
     "name": "stdin",
     "output_type": "stream",
     "text": [
      "Choose an option:  1\n",
      "Enter book ID:  1001\n",
      "Enter book title:  Python\n",
      "Enter quantity:  3\n"
     ]
    },
    {
     "name": "stdout",
     "output_type": "stream",
     "text": [
      "Book 'Python' inserted successfully!\n",
      "1. Insert Book\n",
      "2. Show Books\n",
      "3. Issue Book\n",
      "4. Return Book \n",
      "5. Exit\n"
     ]
    },
    {
     "name": "stdin",
     "output_type": "stream",
     "text": [
      "Choose an option:  2\n"
     ]
    },
    {
     "name": "stdout",
     "output_type": "stream",
     "text": [
      "\n",
      "Available Books:\n",
      "ID: 1001, Title: Python, Available: 3\n",
      "1. Insert Book\n",
      "2. Show Books\n",
      "3. Issue Book\n",
      "4. Return Book \n",
      "5. Exit\n"
     ]
    },
    {
     "name": "stdin",
     "output_type": "stream",
     "text": [
      "Choose an option:  3\n",
      "Enter book ID to issue:  1001\n"
     ]
    },
    {
     "name": "stdout",
     "output_type": "stream",
     "text": [
      "Book 'Python' issued successfully!\n",
      "1. Insert Book\n",
      "2. Show Books\n",
      "3. Issue Book\n",
      "4. Return Book \n",
      "5. Exit\n"
     ]
    },
    {
     "name": "stdin",
     "output_type": "stream",
     "text": [
      "Choose an option:  2\n"
     ]
    },
    {
     "name": "stdout",
     "output_type": "stream",
     "text": [
      "\n",
      "Available Books:\n",
      "ID: 1001, Title: Python, Available: 2\n",
      "1. Insert Book\n",
      "2. Show Books\n",
      "3. Issue Book\n",
      "4. Return Book \n",
      "5. Exit\n"
     ]
    },
    {
     "name": "stdin",
     "output_type": "stream",
     "text": [
      "Choose an option:  4\n",
      "Enter book ID to return:  1001\n"
     ]
    },
    {
     "name": "stdout",
     "output_type": "stream",
     "text": [
      "Book 'Python' returned successfully!\n",
      "1. Insert Book\n",
      "2. Show Books\n",
      "3. Issue Book\n",
      "4. Return Book \n",
      "5. Exit\n"
     ]
    },
    {
     "name": "stdin",
     "output_type": "stream",
     "text": [
      "Choose an option:  2\n"
     ]
    },
    {
     "name": "stdout",
     "output_type": "stream",
     "text": [
      "\n",
      "Available Books:\n",
      "ID: 1001, Title: Python, Available: 3\n",
      "1. Insert Book\n",
      "2. Show Books\n",
      "3. Issue Book\n",
      "4. Return Book \n",
      "5. Exit\n"
     ]
    },
    {
     "name": "stdin",
     "output_type": "stream",
     "text": [
      "Choose an option:  5\n"
     ]
    },
    {
     "name": "stdout",
     "output_type": "stream",
     "text": [
      "Exiting the system...\n"
     ]
    }
   ],
   "source": [
    "books = {} #USe Dictonary \n",
    "\n",
    "while True:\n",
    "    print(\"1. Insert Book\")\n",
    "    print('2. Show Books')\n",
    "    print('3. Issue Book')\n",
    "    print('4. Return Book ')\n",
    "    print('5. Exit')\n",
    "    \n",
    "    choice = input(\"Choose an option: \")\n",
    "\n",
    "    if choice == '1':  # Insert a book\n",
    "        book_id = int(input(\"Enter book ID: \"))\n",
    "        title = input(\"Enter book title: \")\n",
    "        quantity = int(input(\"Enter quantity: \"))\n",
    "        books[book_id] = {\"title\": title, \"quantity\": quantity}\n",
    "        print(f\"Book '{title}' inserted successfully!\")\n",
    "\n",
    "    elif choice == '2':  # Show all books\n",
    "        if books:\n",
    "            print(\"\\nAvailable Books:\")\n",
    "            for book_id, details in books.items():\n",
    "                print(f\"ID: {book_id}, Title: {details['title']}, Available: {details['quantity']}\")\n",
    "        else:\n",
    "            print(\"No books available.\")\n",
    "\n",
    "    elif choice == '3':  # Issue a book\n",
    "        book_id = int(input(\"Enter book ID to issue: \"))\n",
    "        if book_id in books and books[book_id][\"quantity\"] > 0:\n",
    "            books[book_id][\"quantity\"] -= 1\n",
    "            print(f\"Book '{books[book_id]['title']}' issued successfully!\")\n",
    "        else:\n",
    "            print(\"Book unavailable or invalid book ID.\")\n",
    "\n",
    "    elif choice == '4':  # Return a book\n",
    "        book_id = int(input(\"Enter book ID to return: \"))\n",
    "        if book_id in books:\n",
    "            books[book_id][\"quantity\"] += 1\n",
    "            print(f\"Book '{books[book_id]['title']}' returned successfully!\")\n",
    "        else:\n",
    "            print(\"Invalid book ID.\")\n",
    "\n",
    "    elif choice == '5':  # Exit the program\n",
    "        print(\"Exiting the system...\")\n",
    "        break\n",
    "\n",
    "    else:\n",
    "        print(\"Invalid choice. Please try again.\")\n"
   ]
  },
  {
   "cell_type": "code",
   "execution_count": null,
   "id": "fbaa13b4-bd0d-4db3-b906-6bd83badb11c",
   "metadata": {},
   "outputs": [],
   "source": []
  }
 ],
 "metadata": {
  "kernelspec": {
   "display_name": "Python 3 (ipykernel)",
   "language": "python",
   "name": "python3"
  },
  "language_info": {
   "codemirror_mode": {
    "name": "ipython",
    "version": 3
   },
   "file_extension": ".py",
   "mimetype": "text/x-python",
   "name": "python",
   "nbconvert_exporter": "python",
   "pygments_lexer": "ipython3",
   "version": "3.12.5"
  }
 },
 "nbformat": 4,
 "nbformat_minor": 5
}
