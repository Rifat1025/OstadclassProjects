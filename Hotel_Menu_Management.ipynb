{
 "cells": [
  {
   "cell_type": "raw",
   "id": "b9c28c98-c921-4b36-9467-4d73ce2eb41f",
   "metadata": {},
   "source": [
    "Hotel Menu Managing  Projects by python\n"
   ]
  },
  {
   "cell_type": "code",
   "execution_count": null,
   "id": "0e9abc1d-913a-4389-a159-538738e7b2f3",
   "metadata": {},
   "outputs": [],
   "source": [
    "class FavoriteFoodManager:\n",
    "    def __init__(self):\n",
    "        self.favorite_foods = []\n",
    "\n",
    "    def display_menu(self):\n",
    "        print(\"Favorite Food Manager\")\n",
    "        print(\"1. Add a favorite food\")\n",
    "        print(\"2. View all favorite foods\")\n",
    "        print(\"3. Remove a favorite food\")\n",
    "        print(\"4. Exit\")\n",
    "        \n",
    "    def add_favourite_food(self):\n",
    "        food = input(\"Enter the name of the food to add:\")\n",
    "        if food:\n",
    "            self.favorite_foods.append(food)\n",
    "            print(f\"'{food}' has been added to your favorite foods.\")\n",
    "        else:\n",
    "            print(\"You must enter a valid food name. Please try again.\")\n",
    "\n",
    "    def view_foods(self):#Hotel Menu Managing  Projects by python\n",
    "        if self.favorite_foods:\n",
    "            print(\"Your favorite foods are:\")\n",
    "            for idx, food in enumerate(self.favorite_foods, 1):\n",
    "                print(f\"{idx}. {food}\")\n",
    "        else:\n",
    "            print(\"You don't have any favorite foods yet. Please add some first.\")\n",
    "\n",
    "    def remove_food(self):\n",
    "        if not self.favorite_foods:\n",
    "            print(\"You have no foods to remove. Please add some first.\")\n",
    "            return\n",
    "\n",
    "        self.view_foods()\n",
    "        try:\n",
    "            food_number = int(input(\"\\nEnter the number of the food to remove: \"))\n",
    "            if 1 <= food_number <= len(self.favorite_foods):\n",
    "                removed_food = self.favorite_foods.pop(food_number - 1)\n",
    "                print(f\"'{removed_food}' has been removed from your favorite foods.\")\n",
    "            else:\n",
    "                print(\"Invalid number. Please enter a number between 1 and\", len(self.favorite_foods))\n",
    "        except ValueError:\n",
    "            print(\"Invalid input. Please enter a valid number.\")\n",
    "\n",
    "    def run(self):\n",
    "        while True:\n",
    "            self.display_menu()\n",
    "            choice = input(\"Choose an option::\")\n",
    "\n",
    "            if choice == '1':\n",
    "                self.add_favourite_food()\n",
    "            elif choice == '2':\n",
    "                self.view_foods()\n",
    "            elif choice == '3':\n",
    "                self.remove_food()\n",
    "            elif choice == '4':\n",
    "                print(\"Thank you for using the Favorite Food Manager. Goodbye!\")\n",
    "                break\n",
    "            else:\n",
    "                print(\"Invalid choice. Please enter a number between 1 and 4.\")\n",
    "\n",
    "   \n"
   ]
  },
  {
   "cell_type": "code",
   "execution_count": 2,
   "id": "82a2a2ef-310e-4f5b-b7d1-3dac9dbebd10",
   "metadata": {},
   "outputs": [],
   "source": [
    "manager = FavoriteFoodManager()\n",
    "  "
   ]
  },
  {
   "cell_type": "code",
   "execution_count": 3,
   "id": "a6313f44-1d78-4a6e-a491-701aa0d600b0",
   "metadata": {},
   "outputs": [
    {
     "name": "stdout",
     "output_type": "stream",
     "text": [
      "Favorite Food Manager\n",
      "1. Add a favorite food\n",
      "2. View all favorite foods\n",
      "3. Remove a favorite food\n",
      "4. Exit\n",
      "Please enter the number choice:\n"
     ]
    },
    {
     "name": "stdin",
     "output_type": "stream",
     "text": [
      "Choose an option:: 1\n",
      "Enter the name of the food to add: Pizza\n"
     ]
    },
    {
     "name": "stdout",
     "output_type": "stream",
     "text": [
      "'Pizza' has been added to your favorite foods.\n",
      "Favorite Food Manager\n",
      "1. Add a favorite food\n",
      "2. View all favorite foods\n",
      "3. Remove a favorite food\n",
      "4. Exit\n",
      "Please enter the number choice:\n"
     ]
    },
    {
     "name": "stdin",
     "output_type": "stream",
     "text": [
      "Choose an option:: 2\n"
     ]
    },
    {
     "name": "stdout",
     "output_type": "stream",
     "text": [
      "Your favorite foods are:\n",
      "1. Pizza\n",
      "Favorite Food Manager\n",
      "1. Add a favorite food\n",
      "2. View all favorite foods\n",
      "3. Remove a favorite food\n",
      "4. Exit\n",
      "Please enter the number choice:\n"
     ]
    },
    {
     "name": "stdin",
     "output_type": "stream",
     "text": [
      "Choose an option:: 3\n"
     ]
    },
    {
     "name": "stdout",
     "output_type": "stream",
     "text": [
      "Your favorite foods are:\n",
      "1. Pizza\n"
     ]
    },
    {
     "name": "stdin",
     "output_type": "stream",
     "text": [
      "\n",
      "Enter the number of the food to remove:  1\n"
     ]
    },
    {
     "name": "stdout",
     "output_type": "stream",
     "text": [
      "'Pizza' has been removed from your favorite foods.\n",
      "Favorite Food Manager\n",
      "1. Add a favorite food\n",
      "2. View all favorite foods\n",
      "3. Remove a favorite food\n",
      "4. Exit\n",
      "Please enter the number choice:\n"
     ]
    },
    {
     "name": "stdin",
     "output_type": "stream",
     "text": [
      "Choose an option:: 4\n"
     ]
    },
    {
     "name": "stdout",
     "output_type": "stream",
     "text": [
      "Thank you for using the Favorite Food Manager. Goodbye!\n"
     ]
    }
   ],
   "source": [
    "manager.run()"
   ]
  },
  {
   "cell_type": "code",
   "execution_count": null,
   "id": "6271ae0a-b566-4b9d-a4f9-2b31ca519ce1",
   "metadata": {},
   "outputs": [],
   "source": []
  }
 ],
 "metadata": {
  "kernelspec": {
   "display_name": "Python 3 (ipykernel)",
   "language": "python",
   "name": "python3"
  },
  "language_info": {
   "codemirror_mode": {
    "name": "ipython",
    "version": 3
   },
   "file_extension": ".py",
   "mimetype": "text/x-python",
   "name": "python",
   "nbconvert_exporter": "python",
   "pygments_lexer": "ipython3",
   "version": "3.12.5"
  }
 },
 "nbformat": 4,
 "nbformat_minor": 5
}
