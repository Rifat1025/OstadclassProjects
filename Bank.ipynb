{
 "cells": [
  {
   "cell_type": "code",
   "execution_count": 2,
   "id": "09fdc65a-26b6-47b8-b323-e01069c442f9",
   "metadata": {},
   "outputs": [
    {
     "name": "stdout",
     "output_type": "stream",
     "text": [
      "Welcome to the Bank Management System\n",
      "\n",
      "Choose an option:\n",
      "1. View Account Details\n",
      "2. Deposit Money\n",
      "3. Withdraw Money\n",
      "4. Check Balance\n",
      "5. Exit\n"
     ]
    },
    {
     "name": "stdin",
     "output_type": "stream",
     "text": [
      "Enter choice (1-5)::  1\n"
     ]
    },
    {
     "name": "stdout",
     "output_type": "stream",
     "text": [
      "Account Holder: John Doe\n",
      "Current Balance: 500\n",
      "\n",
      "Choose an option:\n",
      "1. View Account Details\n",
      "2. Deposit Money\n",
      "3. Withdraw Money\n",
      "4. Check Balance\n",
      "5. Exit\n"
     ]
    },
    {
     "name": "stdin",
     "output_type": "stream",
     "text": [
      "Enter choice (1-5)::  2\n",
      "Enter amount to deposit:  200\n"
     ]
    },
    {
     "name": "stdout",
     "output_type": "stream",
     "text": [
      "Deposited 200.0 successfully. New balance: 700.0\n",
      "\n",
      "Choose an option:\n",
      "1. View Account Details\n",
      "2. Deposit Money\n",
      "3. Withdraw Money\n",
      "4. Check Balance\n",
      "5. Exit\n"
     ]
    },
    {
     "name": "stdin",
     "output_type": "stream",
     "text": [
      "Enter choice (1-5)::  1\n"
     ]
    },
    {
     "name": "stdout",
     "output_type": "stream",
     "text": [
      "Account Holder: John Doe\n",
      "Current Balance: 700.0\n",
      "\n",
      "Choose an option:\n",
      "1. View Account Details\n",
      "2. Deposit Money\n",
      "3. Withdraw Money\n",
      "4. Check Balance\n",
      "5. Exit\n"
     ]
    },
    {
     "name": "stdin",
     "output_type": "stream",
     "text": [
      "Enter choice (1-5)::  3\n",
      "Enter amount to withdraw:  400\n"
     ]
    },
    {
     "name": "stdout",
     "output_type": "stream",
     "text": [
      "Withdrew 400.0 successfully. New balance: 300.0\n",
      "\n",
      "Choose an option:\n",
      "1. View Account Details\n",
      "2. Deposit Money\n",
      "3. Withdraw Money\n",
      "4. Check Balance\n",
      "5. Exit\n"
     ]
    },
    {
     "name": "stdin",
     "output_type": "stream",
     "text": [
      "Enter choice (1-5)::  5\n"
     ]
    },
    {
     "name": "stdout",
     "output_type": "stream",
     "text": [
      "Exiting Bank Management System. Goodbye!\n"
     ]
    }
   ],
   "source": [
    "class BankAccount:\n",
    "    def __init__(self, account_holder, balance=0):\n",
    "        self.account_holder = account_holder\n",
    "        self.balance = balance\n",
    "\n",
    "    def deposit(self, amount):\n",
    "        if amount > 0:\n",
    "            self.balance += amount\n",
    "            print(f\"Deposited {amount} successfully. New balance: {self.balance}\")\n",
    "        else:\n",
    "            print(\"Deposit amount must be greater than zero.\")\n",
    "\n",
    "    def withdraw(self, amount):\n",
    "        if amount > 0 and amount <= self.balance:\n",
    "            self.balance -= amount\n",
    "            print(f\"Withdrew {amount} successfully. New balance: {self.balance}\")\n",
    "        elif amount > self.balance:\n",
    "            print(\"Insufficient funds.\")\n",
    "        else:\n",
    "            print(\"Withdrawal amount must be greater than zero.\")\n",
    "\n",
    "    def check_balance(self):\n",
    "        print(f\"Current balance: {self.balance}\")\n",
    "\n",
    "    def account_details(self):\n",
    "        print(f\"Account Holder: {self.account_holder}\")\n",
    "        print(f\"Current Balance: {self.balance}\")\n",
    "\n",
    "\n",
    "def main():\n",
    "    print(\"Welcome to the Bank Management System\")\n",
    "    account = BankAccount(\"John Doe\", 500)\n",
    "\n",
    "    while True:\n",
    "        print(\"\\nChoose an option:\")\n",
    "        print(\"1. View Account Details\")\n",
    "        print(\"2. Deposit Money\")\n",
    "        print(\"3. Withdraw Money\")\n",
    "        print(\"4. Check Balance\")\n",
    "        print(\"5. Exit\")\n",
    "\n",
    "        choice = input(\"Enter choice (1-5):: \")\n",
    "\n",
    "        if choice == '1':\n",
    "            account.account_details()\n",
    "        elif choice == '2':\n",
    "            amount = float(input(\"Enter amount to deposit: \"))\n",
    "            account.deposit(amount)\n",
    "        elif choice == '3':\n",
    "            amount = float(input(\"Enter amount to withdraw: \"))\n",
    "            account.withdraw(amount)\n",
    "        elif choice == '4':\n",
    "            account.check_balance()\n",
    "        elif choice == '5':\n",
    "            print(\"Exiting Bank Management System. Goodbye!\")\n",
    "            break\n",
    "        else:\n",
    "            print(\"Invalid choice. Please try again.\")\n",
    "\n",
    "\n",
    "if __name__ == \"__main__\":\n",
    "    main()\n"
   ]
  },
  {
   "cell_type": "code",
   "execution_count": null,
   "id": "2b4c659b-47d0-4132-8ba1-ca597afd652b",
   "metadata": {},
   "outputs": [],
   "source": []
  }
 ],
 "metadata": {
  "kernelspec": {
   "display_name": "Python 3 (ipykernel)",
   "language": "python",
   "name": "python3"
  },
  "language_info": {
   "codemirror_mode": {
    "name": "ipython",
    "version": 3
   },
   "file_extension": ".py",
   "mimetype": "text/x-python",
   "name": "python",
   "nbconvert_exporter": "python",
   "pygments_lexer": "ipython3",
   "version": "3.12.5"
  }
 },
 "nbformat": 4,
 "nbformat_minor": 5
}
